{
 "cells": [
  {
   "cell_type": "code",
   "execution_count": 7,
   "metadata": {},
   "outputs": [
    {
     "name": "stdout",
     "output_type": "stream",
     "text": [
      "90\n"
     ]
    }
   ],
   "source": [
    "def printEven(n):\n",
    "    cnt=0;\n",
    "    sum=0;\n",
    "    while(cnt!=n):\n",
    "        if(cnt%2==0):\n",
    "            sum=sum+cnt;\n",
    "        cnt=cnt+1;\n",
    "    return sum;    \n",
    "        \n",
    "print(printEven(20));"
   ]
  },
  {
   "cell_type": "code",
   "execution_count": 16,
   "metadata": {},
   "outputs": [
    {
     "name": "stdout",
     "output_type": "stream",
     "text": [
      "Enter the value of n  12\n",
      "1 2 3 4 6 "
     ]
    }
   ],
   "source": [
    "def factorslist(n):\n",
    "    i=1;\n",
    "    while(i!=n):\n",
    "        if(n%i==0):\n",
    "            print(i,end=\" \");\n",
    "        i=i+1;\n",
    "    return;\n",
    "factorslist(int(input(\"Enter the value of n  \")));\n"
   ]
  },
  {
   "cell_type": "code",
   "execution_count": 19,
   "metadata": {},
   "outputs": [
    {
     "name": "stdout",
     "output_type": "stream",
     "text": [
      "[1, 2, 3, 4, 5]\n",
      "1\n"
     ]
    }
   ],
   "source": [
    "list1=[1,2,3,4,5];\n",
    "#Entire list\n",
    "print(list1);\n",
    "#list[0]\n",
    "print(list1[0])"
   ]
  },
  {
   "cell_type": "code",
   "execution_count": 23,
   "metadata": {},
   "outputs": [
    {
     "name": "stdout",
     "output_type": "stream",
     "text": [
      "Akhil Arvind Anil Akash "
     ]
    }
   ],
   "source": [
    "list2=[\"Akhil\",\"Arvind\",\"Anil\",\"Akash\"];\n",
    "for x in list2:\n",
    "   print(x,end=\" \")"
   ]
  },
  {
   "cell_type": "markdown",
   "metadata": {},
   "source": [
    "For LOOP Syntax:\n",
    "  for<Variable_Name> in <seq>:\n",
    "    <Statements>"
   ]
  },
  {
   "cell_type": "code",
   "execution_count": 32,
   "metadata": {},
   "outputs": [
    {
     "name": "stdout",
     "output_type": "stream",
     "text": [
      "1 2 3 4 5 6 7 \n",
      "[4, 5, 6, 7]\n",
      "[1, 2, 3]\n",
      "[1, 2, 3, 4, 5, 6, 7]\n"
     ]
    }
   ],
   "source": [
    "lst1=[1,2,3,4,5,6,7]\n",
    "for x in lst1:\n",
    "    print(x,end=\" \")\n",
    "print();    \n",
    "print(lst1[3:7]); \n",
    "print(lst1[0:3]);\n",
    "print(lst1[:7])"
   ]
  },
  {
   "cell_type": "code",
   "execution_count": 45,
   "metadata": {},
   "outputs": [
    {
     "name": "stdout",
     "output_type": "stream",
     "text": [
      "1 2 3 4 5 6 7 8 9 10 \n",
      "[2, 3, 4, 5, 6, 7, 8, 9]\n",
      "[3, 4, 5, 6, 7, 8]\n",
      "[1, 4, 7, 10]\n",
      "[1, 3, 5, 7, 9]\n",
      "10\n"
     ]
    }
   ],
   "source": [
    "lst1=[1,2,3,4,5,6,7,8,9,10]\n",
    "for x in lst1:\n",
    "    print(x,end=\" \")\n",
    "print();\n",
    "print(lst1[1:-1])\n",
    "print(lst1[2:-2])\n",
    "print(lst1[::3])\n",
    "print(lst1[::2])\n",
    "print(lst1[-1])"
   ]
  },
  {
   "cell_type": "code",
   "execution_count": 53,
   "metadata": {},
   "outputs": [
    {
     "name": "stdout",
     "output_type": "stream",
     "text": [
      "['Anil', 'Adarsh', 'Akhil', 1]\n",
      "['Anil', 'Adarsh', 15, 1]\n",
      "['Anil', 'Adarsh', 15]\n",
      "['Anil', 'GITAM', 15]\n",
      "['Anil', 'GITAM', 15, 1, 2, 3]\n"
     ]
    }
   ],
   "source": [
    "lst1=[\"Anil\",\"Adarsh\",\"Akhil\",1];\n",
    "print(lst1)\n",
    "\n",
    "lst1[2]=15;\n",
    "print(lst1)    #Update list\n",
    "\n",
    "del lst1[3];\n",
    "print(lst1)   #Delete list\n",
    "\n",
    "lst1[1]=\"GITAM\";\n",
    "print(lst1)\n",
    "\n",
    "lst2=[1,2,3];\n",
    "print(lst1+lst2)   #Concatination of Lists"
   ]
  },
  {
   "cell_type": "code",
   "execution_count": 63,
   "metadata": {},
   "outputs": [
    {
     "name": "stdout",
     "output_type": "stream",
     "text": [
      "[1, 2, 3, 4, 5]\n",
      "[1, 2, 4, 5]\n",
      "4\n",
      "[1, 2, 4, 5, 15]\n",
      "[1, 2, 4, 5, 15, 150]\n",
      "[1, 2, 4, 5, 15, 150, 1, 3, 1]\n",
      "3\n",
      "1\n"
     ]
    }
   ],
   "source": [
    "lst1=[1,2,3,4,5]\n",
    "print(lst1)\n",
    "del lst1[2]\n",
    "print(lst1)\n",
    "print(len(lst1))\n",
    "lst1.append(15)    #Adds Elements in the Last Position\n",
    "print(lst1)\n",
    "lst1.append(150)\n",
    "print(lst1)\n",
    "lst1.append(1)\n",
    "lst1.append(3)\n",
    "lst1.append(1)\n",
    "print(lst1)\n",
    "print(lst1.count(1)) #Shows the no. of times a particular variable appears in the list.\n",
    "print(lst1.count(3))"
   ]
  },
  {
   "cell_type": "code",
   "execution_count": 73,
   "metadata": {},
   "outputs": [
    {
     "name": "stdout",
     "output_type": "stream",
     "text": [
      "['Gitam', 'Python', 'Raptor', 1, 5, 'Python', 'Python']\n",
      "1\n",
      "3\n",
      "7\n",
      "['Gitam', 'Python', 2019, 'Raptor', 1, 5, 'Python', 'Python']\n",
      "['Gitam', 'Python', 2019, 'Raptor', 2020, 1, 5, 'Python', 'Python']\n",
      "['Gitam', 2019, 'Raptor', 2020, 1, 5, 'Python', 'Python']\n",
      "['Python', 'Python', 5, 1, 2020, 'Raptor', 2019, 'Gitam']\n"
     ]
    }
   ],
   "source": [
    "lst1=[\"Gitam\",\"Python\",\"Raptor\",1,5,\"Python\",\"Python\"]\n",
    "print(lst1)\n",
    "print(lst1.index(\"Python\")) #Finding the index of an Element\n",
    "print(lst1.count(\"Python\")) #Counting the no. of times a element is repeated.\n",
    "print(len(lst1))\n",
    "lst1.insert(2,2019)\n",
    "print(lst1)\n",
    "lst1.insert(4,2020)\n",
    "print(lst1)\n",
    "lst1.remove(\"Python\") #Removes a repeated element from the list.\n",
    "print(lst1)\n",
    "lst1.reverse() #reverses the elements in the given list.\n",
    "print(lst1)"
   ]
  },
  {
   "cell_type": "code",
   "execution_count": 85,
   "metadata": {},
   "outputs": [
    {
     "name": "stdout",
     "output_type": "stream",
     "text": [
      "Target item is not found\n"
     ]
    }
   ],
   "source": [
    "def linearsearch(a,taritem):\n",
    "    flag=0;\n",
    "    for i in range(len(a)):\n",
    "        if a[i]==taritem:\n",
    "            flag=1;                                        #Linear Search Programme\n",
    "            break;\n",
    "    if(flag!=0):\n",
    "            print(\"Target item is found\")\n",
    "    else:\n",
    "        print(\"Target item is not found\")\n",
    "   \n",
    "a = [16,2,12,6,9,7,1]\n",
    "linearsearch(a,10)"
   ]
  },
  {
   "cell_type": "code",
   "execution_count": 88,
   "metadata": {},
   "outputs": [
    {
     "name": "stdout",
     "output_type": "stream",
     "text": [
      "2\n"
     ]
    }
   ],
   "source": [
    "def linearsearchduplicate(a,taritem):\n",
    "    flag=0;\n",
    "    for i in range(len(a)):\n",
    "        if a[i]== taritem:\n",
    "            flag=flag+1;                           #no. of times an element is found in a list.\n",
    "    print(flag)      \n",
    "   \n",
    "a=[9,1,6,1,5,9,15,16]\n",
    "linearsearchduplicate(a,9)"
   ]
  },
  {
   "cell_type": "code",
   "execution_count": 89,
   "metadata": {
    "scrolled": true
   },
   "outputs": [
    {
     "name": "stdout",
     "output_type": "stream",
     "text": [
      "3\n"
     ]
    }
   ],
   "source": [
    "def linearexample(a,taritem):\n",
    "    flag=0;\n",
    "    for i in range(len(a)):\n",
    "        if a[i]== taritem:\n",
    "            flag=flag+1;                         \n",
    "    print(flag)      \n",
    "   \n",
    "a=[1,5,9,6,5,15,12,5]\n",
    "linearexample(a,5)"
   ]
  },
  {
   "cell_type": "code",
   "execution_count": 97,
   "metadata": {},
   "outputs": [
    {
     "name": "stdout",
     "output_type": "stream",
     "text": [
      "! ! ! ! !  ! ! ! ! ! !  "
     ]
    }
   ],
   "source": [
    "def linearexample2(a,taritem):\n",
    "    for i in range(len(a)):\n",
    "        if a[i]==taritem:\n",
    "            j=0;\n",
    "            while(j!=i+1):\n",
    "                print(\"!\",end=\" \")\n",
    "                j=j+1;\n",
    "            print(end=\" \")\n",
    "a=[1,2,3,4,5,5]\n",
    "linearexample2(a,5)"
   ]
  },
  {
   "cell_type": "code",
   "execution_count": 100,
   "metadata": {},
   "outputs": [
    {
     "name": "stdout",
     "output_type": "stream",
     "text": [
      "60\n"
     ]
    }
   ],
   "source": [
    "def linearexample(a):\n",
    "    sum=0;\n",
    "    for i in range(len(a)):\n",
    "        if a[i]%3==0 and a[i]%5==0:\n",
    "            sum=sum+a[i]\n",
    "    return sum;\n",
    "a=[15,12,2,9,18,36,45]\n",
    "print(linearexample(a))"
   ]
  },
  {
   "cell_type": "code",
   "execution_count": 102,
   "metadata": {},
   "outputs": [
    {
     "name": "stdout",
     "output_type": "stream",
     "text": [
      "1 3 8 15 5 "
     ]
    }
   ],
   "source": [
    "def linearformattedoutput(a):\n",
    "    for i in range(len(a)):\n",
    "        if i==0 or i==(len(a)-1):\n",
    "            print(a[i],end=\" \")\n",
    "        else:\n",
    "            print(a[i-1]*a[i+1],end=\" \")\n",
    "   \n",
    "a=[1,2,3,4,5]\n",
    "linearformattedoutput(a);"
   ]
  },
  {
   "cell_type": "code",
   "execution_count": 105,
   "metadata": {},
   "outputs": [
    {
     "name": "stdout",
     "output_type": "stream",
     "text": [
      "1 9 19 22 "
     ]
    }
   ],
   "source": [
    "def linearformattedoutput(a):\n",
    "    for i in range(len(a)):\n",
    "        if i==0 or (i==len(a)-1):\n",
    "            print(a[i],end=\" \")\n",
    "        elif a[i-1]%2==0 and a[i+1]%2==0:\n",
    "            print(a[i],end=\" \")\n",
    "         \n",
    "a=[1,6,9,4,16,19,22]\n",
    "linearformattedoutput(a)"
   ]
  },
  {
   "cell_type": "code",
   "execution_count": 108,
   "metadata": {},
   "outputs": [
    {
     "name": "stdout",
     "output_type": "stream",
     "text": [
      "ENter a number14569\n",
      "[1, 4, 5, 6, 9]\n"
     ]
    }
   ],
   "source": [
    "def numbertolstconversion(n):\n",
    "    lst=[]\n",
    "    while n!=0:\n",
    "        r=n%10\n",
    "        lst.append(r)\n",
    "        n=n//10\n",
    "    lst.reverse()\n",
    "    print(lst)\n",
    "    \n",
    "n=int(input(\"ENter a number\"))\n",
    "numbertolstconversion(n)\n",
    "    "
   ]
  },
  {
   "cell_type": "code",
   "execution_count": null,
   "metadata": {},
   "outputs": [],
   "source": []
  }
 ],
 "metadata": {
  "kernelspec": {
   "display_name": "Python 3",
   "language": "python",
   "name": "python3"
  },
  "language_info": {
   "codemirror_mode": {
    "name": "ipython",
    "version": 3
   },
   "file_extension": ".py",
   "mimetype": "text/x-python",
   "name": "python",
   "nbconvert_exporter": "python",
   "pygments_lexer": "ipython3",
   "version": "3.7.3"
  }
 },
 "nbformat": 4,
 "nbformat_minor": 2
}
